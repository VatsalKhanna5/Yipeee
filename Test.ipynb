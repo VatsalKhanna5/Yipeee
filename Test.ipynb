{
 "cells": [
  {
   "cell_type": "markdown",
   "id": "c1442e04",
   "metadata": {},
   "source": []
  }
 ],
 "metadata": {
  "kernelspec": {
   "display_name": "venv",
   "language": "python",
   "name": "python3"
  },
  "language_info": {
   "name": "python",
   "version": "3.10.0"
  }
 },
 "nbformat": 4,
 "nbformat_minor": 5
}
